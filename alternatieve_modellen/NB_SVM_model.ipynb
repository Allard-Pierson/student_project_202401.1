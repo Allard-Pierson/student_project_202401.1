{
 "cells": [
  {
   "cell_type": "markdown",
   "metadata": {},
   "source": [
    "# Naive Bayes"
   ]
  },
  {
   "cell_type": "code",
   "execution_count": 1,
   "metadata": {},
   "outputs": [
    {
     "name": "stdout",
     "output_type": "stream",
     "text": [
      "Columns: Index(['Content', 'Subject1', 'Subject2', 'Subject3', 'Subject4', 'Subject5',\n",
      "       'Subject6', 'Subject7', 'Subject8', 'Subject9', 'Subject10',\n",
      "       'Subject11', 'Subject12', 'Subject13'],\n",
      "      dtype='object')\n"
     ]
    }
   ],
   "source": [
    "import pandas as pd\n",
    "\n",
    "file_path = \"/Users/erhandogan/ErhanBranchBIEB/hva_ai_bibliotheek_opdracht1/summaries_no-uri.csv\"\n",
    "\n",
    "try:\n",
    "    df_info = pd.read_csv(file_path, nrows=0)\n",
    "    print(\"Columns:\", df_info.columns)\n",
    "except pd.errors.EmptyDataError:\n",
    "    print(\"The file is empty or does not contain any data.\")\n"
   ]
  },
  {
   "cell_type": "code",
   "execution_count": 2,
   "metadata": {},
   "outputs": [
    {
     "name": "stderr",
     "output_type": "stream",
     "text": [
      "/var/folders/8w/zj00m2zx5_s4dklygw_qgbth0000gn/T/ipykernel_90972/3236644917.py:9: DtypeWarning: Columns (13) have mixed types. Specify dtype option on import or set low_memory=False.\n",
      "  df = pd.read_csv(file_path)\n"
     ]
    },
    {
     "name": "stdout",
     "output_type": "stream",
     "text": [
      "Naive Bayes Accuracy: 0.19208522232396097\n"
     ]
    }
   ],
   "source": [
    "import pandas as pd\n",
    "from sklearn.model_selection import train_test_split\n",
    "from sklearn.feature_extraction.text import TfidfVectorizer\n",
    "from sklearn.naive_bayes import MultinomialNB\n",
    "from sklearn import metrics\n",
    "\n",
    "# 1. Data Inlezen\n",
    "file_path = \"/Users/erhandogan/ErhanBranchBIEB/hva_ai_bibliotheek_opdracht1/summaries_no-uri.csv\"\n",
    "df = pd.read_csv(file_path)\n",
    "\n",
    "# 2. Tekstuele Voorbereidingen, focus is op content en subject1\n",
    "\n",
    "# 3. Train-Test Split\n",
    "X_train, X_test, y_train, y_test = train_test_split(df['Content'], df['Subject1'], test_size=0.2, random_state=42)\n",
    "\n",
    "# 4. Tekstvectorisatie (TF-IDF)\n",
    "vectorizer = TfidfVectorizer(max_features=5000)  # Pas max_features aan op basis van de dataset\n",
    "X_train_vectorized = vectorizer.fit_transform(X_train)\n",
    "X_test_vectorized = vectorizer.transform(X_test)\n",
    "\n",
    "# 5. Naive Bayes (MultinomialNB)\n",
    "nb_model = MultinomialNB()\n",
    "nb_model.fit(X_train_vectorized, y_train)\n",
    "\n",
    "# Evaluatie van Naive Bayes\n",
    "nb_predictions = nb_model.predict(X_test_vectorized)\n",
    "print(\"Naive Bayes Accuracy:\", metrics.accuracy_score(y_test, nb_predictions))"
   ]
  },
  {
   "cell_type": "code",
   "execution_count": 5,
   "metadata": {},
   "outputs": [
    {
     "name": "stderr",
     "output_type": "stream",
     "text": [
      "/var/folders/8w/zj00m2zx5_s4dklygw_qgbth0000gn/T/ipykernel_90972/2935007029.py:11: DtypeWarning: Columns (13) have mixed types. Specify dtype option on import or set low_memory=False.\n",
      "  df = pd.read_csv(file_path)\n"
     ]
    },
    {
     "name": "stdout",
     "output_type": "stream",
     "text": [
      "Naive Bayes Accuracy: 0.27665989235545035\n"
     ]
    }
   ],
   "source": [
    "# Accuracy van 0.19, enorm laag. Ik ga e.e.a proberen aan te passen om het te verhogen, zoals bijv de learning rate\n",
    "\n",
    "import pandas as pd\n",
    "from sklearn.model_selection import train_test_split\n",
    "from sklearn.feature_extraction.text import TfidfVectorizer\n",
    "from sklearn.naive_bayes import MultinomialNB\n",
    "from sklearn import metrics\n",
    "\n",
    "# 1. Data Inlezen\n",
    "file_path = \"/Users/erhandogan/ErhanBranchBIEB/hva_ai_bibliotheek_opdracht1/summaries_no-uri.csv\"\n",
    "df = pd.read_csv(file_path)\n",
    "\n",
    "# 2. Tekstuele Voorbereiding\n",
    "\n",
    "# 3. Train-Test Split\n",
    "X_train, X_test, y_train, y_test = train_test_split(df['Content'], df['Subject1'], test_size=0.2, random_state=42)\n",
    "\n",
    "# 4. Tekstvectorisatie (TF-IDF)\n",
    "vectorizer = TfidfVectorizer(max_features=5000)  # Pas max_features aan op basis van de dataset\n",
    "X_train_vectorized = vectorizer.fit_transform(X_train)\n",
    "X_test_vectorized = vectorizer.transform(X_test)\n",
    "\n",
    "# 5. Naive Bayes (MultinomialNB)\n",
    "nb_model = MultinomialNB(alpha=0.1)  # learning rate staat nu op 0.1\n",
    "nb_model.fit(X_train_vectorized, y_train)\n",
    "\n",
    "# Evaluatie van Naive Bayes\n",
    "nb_predictions = nb_model.predict(X_test_vectorized)\n",
    "print(\"Naive Bayes Accuracy:\", metrics.accuracy_score(y_test, nb_predictions))\n"
   ]
  },
  {
   "cell_type": "code",
   "execution_count": null,
   "metadata": {},
   "outputs": [],
   "source": [
    "# Nu 0.27, dus dat is een verbetering!\n",
    "# Kan het misschien wat beter? \\/"
   ]
  },
  {
   "cell_type": "code",
   "execution_count": 6,
   "metadata": {},
   "outputs": [
    {
     "name": "stderr",
     "output_type": "stream",
     "text": [
      "/var/folders/8w/zj00m2zx5_s4dklygw_qgbth0000gn/T/ipykernel_90972/3768667066.py:9: DtypeWarning: Columns (13) have mixed types. Specify dtype option on import or set low_memory=False.\n",
      "  df = pd.read_csv(file_path)\n"
     ]
    },
    {
     "name": "stdout",
     "output_type": "stream",
     "text": [
      "Naive Bayes Accuracy: 0.28930031042722826\n"
     ]
    }
   ],
   "source": [
    "import pandas as pd\n",
    "from sklearn.model_selection import train_test_split\n",
    "from sklearn.feature_extraction.text import TfidfVectorizer\n",
    "from sklearn.naive_bayes import MultinomialNB\n",
    "from sklearn import metrics\n",
    "\n",
    "# 1. Data Inlezen\n",
    "file_path = \"/Users/erhandogan/ErhanBranchBIEB/hva_ai_bibliotheek_opdracht1/summaries_no-uri.csv\"\n",
    "df = pd.read_csv(file_path)\n",
    "\n",
    "# 2. Tekstuele Voorbereiding\n",
    "\n",
    "# 3. Train-Test Split\n",
    "X_train, X_test, y_train, y_test = train_test_split(df['Content'], df['Subject1'], test_size=0.2, random_state=42)\n",
    "\n",
    "# 4. Tekstvectorisatie (TF-IDF)\n",
    "vectorizer = TfidfVectorizer(max_features=5000, stop_words='english', ngram_range=(1, 2))  # stopwoord english toegevoegd\n",
    "X_train_vectorized = vectorizer.fit_transform(X_train)\n",
    "X_test_vectorized = vectorizer.transform(X_test)\n",
    "\n",
    "# 5. Naive Bayes (MultinomialNB)\n",
    "nb_model = MultinomialNB(alpha=0.01)  # hou de learning rate nog even op 0.1\n",
    "nb_model.fit(X_train_vectorized, y_train)\n",
    "\n",
    "# Evaluatie van Naive Bayes\n",
    "nb_predictions = nb_model.predict(X_test_vectorized)\n",
    "print(\"Naive Bayes Accuracy:\", metrics.accuracy_score(y_test, nb_predictions))\n"
   ]
  },
  {
   "cell_type": "code",
   "execution_count": null,
   "metadata": {},
   "outputs": [],
   "source": [
    "#Iets omhoog gegaan, maar 0.28 is nog steeds niet helemaal top."
   ]
  },
  {
   "cell_type": "code",
   "execution_count": 1,
   "metadata": {},
   "outputs": [
    {
     "name": "stderr",
     "output_type": "stream",
     "text": [
      "/var/folders/8w/zj00m2zx5_s4dklygw_qgbth0000gn/T/ipykernel_18016/452487588.py:11: DtypeWarning: Columns (13) have mixed types. Specify dtype option on import or set low_memory=False.\n",
      "  df = pd.read_csv(file_path)\n"
     ]
    },
    {
     "name": "stdout",
     "output_type": "stream",
     "text": [
      "Naive Bayes Accuracy: 0.2605802085892311\n"
     ]
    }
   ],
   "source": [
    "import pandas as pd\n",
    "from sklearn.model_selection import train_test_split\n",
    "from sklearn.feature_extraction.text import TfidfVectorizer\n",
    "from sklearn.naive_bayes import MultinomialNB\n",
    "from sklearn.pipeline import make_pipeline\n",
    "from sklearn.preprocessing import StandardScaler\n",
    "from sklearn import metrics\n",
    "\n",
    "# 1. Data Inlezen\n",
    "file_path = \"/Users/erhandogan/ErhanBranchBIEB/hva_ai_bibliotheek_opdracht1/summaries_no-uri.csv\"\n",
    "df = pd.read_csv(file_path)\n",
    "\n",
    "# 2. Tekstuele Voorbewerking\n",
    "\n",
    "# 3. Train-Test Split\n",
    "X_train, X_test, y_train, y_test = train_test_split(df['Content'], df['Subject1'], test_size=0.2, random_state=42)\n",
    "\n",
    "# 4. Tekstvectorisatie (TF-IDF) met normalisatie en n-grams\n",
    "vectorizer = TfidfVectorizer(max_features=5000, stop_words='english', ngram_range=(1, 3), min_df=5)  \n",
    "X_train_vectorized = vectorizer.fit_transform(X_train)\n",
    "X_test_vectorized = vectorizer.transform(X_test)\n",
    "\n",
    "# 5. Naive Bayes (MultinomialNB) met normalisatie via pipeline\n",
    "nb_model = make_pipeline(StandardScaler(with_mean=False), MultinomialNB(alpha=0.5))  \n",
    "nb_model.fit(X_train_vectorized, y_train)\n",
    "\n",
    "# Evaluatie van Naive Bayes\n",
    "nb_predictions = nb_model.predict(X_test_vectorized)\n",
    "print(\"Naive Bayes Accuracy:\", metrics.accuracy_score(y_test, nb_predictions))\n"
   ]
  },
  {
   "cell_type": "markdown",
   "metadata": {},
   "source": [
    "**Ik ben niet helemaal tevreden, dus i.p.v naive bayes; ga ik SVM proberen!**\n",
    "# Support Vector Machine"
   ]
  },
  {
   "cell_type": "code",
   "execution_count": 2,
   "metadata": {},
   "outputs": [
    {
     "name": "stdout",
     "output_type": "stream",
     "text": [
      "                                             Content                 Subject1  \\\n",
      "0  The medieval cultures of the Irish Sea and the...  Civilization, Medieval.   \n",
      "1  Eating my words  | A restaurant critic discuss...       Women food writers   \n",
      "2  From cooking vessels to cultural practices in ...               Bronze age   \n",
      "3  Heat  | Writer Buford's memoir of his headlong...         Cooking, Italian   \n",
      "4  The joy of eating  | A rich and satisfying col...               Gastronomy   \n",
      "\n",
      "           Subject2     Subject3          Subject4                   Subject5  \\\n",
      "0               NaN          NaN               NaN                        NaN   \n",
      "1     Food writing.          NaN               NaN                        NaN   \n",
      "2  Pottery, Ancient     Cookware  Material culture  Excavations (Archaeology)   \n",
      "3              Food          NaN               NaN                        NaN   \n",
      "4              Food  Food habits               NaN                        NaN   \n",
      "\n",
      "             Subject6 Subject7 Subject8 Subject9 Subject10 Subject11  \\\n",
      "0                 NaN      NaN      NaN      NaN       NaN       NaN   \n",
      "1                 NaN      NaN      NaN      NaN       NaN       NaN   \n",
      "2  Social archaeology      NaN      NaN      NaN       NaN       NaN   \n",
      "3                 NaN      NaN      NaN      NaN       NaN       NaN   \n",
      "4                 NaN      NaN      NaN      NaN       NaN       NaN   \n",
      "\n",
      "  Subject12 Subject13  \n",
      "0       NaN       NaN  \n",
      "1       NaN       NaN  \n",
      "2       NaN       NaN  \n",
      "3       NaN       NaN  \n",
      "4       NaN       NaN  \n"
     ]
    }
   ],
   "source": [
    "#Even weer inzicht krijgen in de data, waarom wil ik nou Content en Subject1 hebben? Niet elk boek heeft meerdere onderwerpen,\n",
    "# maar sowieso altijd één\n",
    "\n",
    "# Print de head van de dataframe\n",
    "print(df.head())\n"
   ]
  },
  {
   "cell_type": "code",
   "execution_count": 3,
   "metadata": {},
   "outputs": [
    {
     "name": "stderr",
     "output_type": "stream",
     "text": [
      "/var/folders/8w/zj00m2zx5_s4dklygw_qgbth0000gn/T/ipykernel_31504/83101893.py:9: DtypeWarning: Columns (13) have mixed types. Specify dtype option on import or set low_memory=False.\n",
      "  df = pd.read_csv(file_path)\n"
     ]
    },
    {
     "name": "stdout",
     "output_type": "stream",
     "text": [
      "SVM Accuracy: 0.23202322465386332\n"
     ]
    }
   ],
   "source": [
    "import pandas as pd\n",
    "from sklearn.model_selection import train_test_split\n",
    "from sklearn.feature_extraction.text import TfidfVectorizer\n",
    "from sklearn.svm import SVC\n",
    "from sklearn import metrics\n",
    "\n",
    "# 1. Data Inlezen\n",
    "file_path = \"/Users/erhandogan/ErhanBranchBIEB/hva_ai_bibliotheek_opdracht1/summaries_no-uri.csv\"\n",
    "df = pd.read_csv(file_path)\n",
    "\n",
    "# Neem 10% van de gegevens voor de test, volledige dataset kon de GPU niet aan en duurde urenlang -> crash\n",
    "df_sample = df.sample(frac=0.1, random_state=42)\n",
    "\n",
    "# 3. Train-Test Split, ook weer op content en subject1\n",
    "X_train, X_test, y_train, y_test = train_test_split(df_sample['Content'], df_sample['Subject1'], test_size=0.2, random_state=42)\n",
    "\n",
    "# 4. Tekstvectorisatie (TF-IDF)\n",
    "vectorizer = TfidfVectorizer(max_features=None, stop_words='english', ngram_range=(1, 2)) \n",
    "X_train_vectorized = vectorizer.fit_transform(X_train)\n",
    "X_test_vectorized = vectorizer.transform(X_test)\n",
    "\n",
    "# 5. Support Vector Machine (SVM)\n",
    "svm_model = SVC(kernel='linear')  # lineaire kernel kan goed presteren in tekstanalyse\n",
    "svm_model.fit(X_train_vectorized, y_train)\n",
    "\n",
    "# Evaluatie van SVM\n",
    "svm_predictions = svm_model.predict(X_test_vectorized)\n",
    "print(\"SVM Accuracy:\", metrics.accuracy_score(y_test, svm_predictions))\n"
   ]
  },
  {
   "cell_type": "markdown",
   "metadata": {},
   "source": []
  }
 ],
 "metadata": {
  "kernelspec": {
   "display_name": "base",
   "language": "python",
   "name": "python3"
  },
  "language_info": {
   "codemirror_mode": {
    "name": "ipython",
    "version": 3
   },
   "file_extension": ".py",
   "mimetype": "text/x-python",
   "name": "python",
   "nbconvert_exporter": "python",
   "pygments_lexer": "ipython3",
   "version": "3.9.12"
  }
 },
 "nbformat": 4,
 "nbformat_minor": 2
}
